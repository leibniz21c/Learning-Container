{
 "metadata": {
  "language_info": {
   "codemirror_mode": {
    "name": "ipython",
    "version": 3
   },
   "file_extension": ".py",
   "mimetype": "text/x-python",
   "name": "python",
   "nbconvert_exporter": "python",
   "pygments_lexer": "ipython3",
   "version": "3.8.2-final"
  },
  "orig_nbformat": 2,
  "kernelspec": {
   "name": "python3",
   "display_name": "Python 3.8.2 64-bit",
   "metadata": {
    "interpreter": {
     "hash": "5edc29c2ed010d6458d71a83433b383a96a8cbd3efe8531bc90c4b8a5b8bcec9"
    }
   }
  }
 },
 "nbformat": 4,
 "nbformat_minor": 2,
 "cells": [
  {
   "source": [
    "# CH05.Docker life cycle"
   ],
   "cell_type": "markdown",
   "metadata": {}
  },
  {
   "source": [
    "### 1. Docker life cycle\n",
    "\n",
    "\n",
    "<img src=\"./res/ch05/fig01.png\" width=\"650\" height=\"400\"><br>\n",
    "<div align=\"center\">\n",
    "  Figure01\n",
    "</div>\n",
    "\n",
    "```docker pull \"imageName\"```을 통해서 Pulling된 Image는 정적인 상태로 실행이 불가능하다. 이를 실행하려면 반드시 Image를 Instance화하여 Container를 만들어 주어야한다. 이때, 사용되는 명령어가 ```create```이고, 이를 시작하려면 ```start``` 명령어를 사용한다. ```run```이라는 명령어를 사용하면 Pulling, Creating and Starting을 모두 한번에 할 수 있다. 물론 이미 로컬에 있는 Image라면 ```run```은 ```create```와 ```start```만 동작한다. 주의할 점으로 ```run```을 사용하는 것은 container가 create까지 되기에, 잘 못사용한다면 불필요한 컨테이너가 계속 만들어진다.<br><br>\n",
    "\n",
    "container의 동작을 멈추고 싶으면 ```stop``` 명령어를 사용한다. 멈추게된 container는 삭제할 수 있으며, 이는 ```rm```명령어를 이용하여 할 수 있다. 추가로 Image를 삭제하는 것은 ```rmi``` 명령어다. <br><br>\n",
    "\n",
    "Container 내부에서 필요한 소프트웨어를 다운받다보면, 이를 Image화 해야하는 경우가 있는데, 이때 ```commit``` 명령어를 사용한다. 그리고 이렇게 생성된 Image는 당연히 ```push``` 명령어를 이용하여 registry에 pushing할 수 있다."
   ],
   "cell_type": "markdown",
   "metadata": {}
  },
  {
   "source": [
    "### 2. 명령어\n",
    "#### 2.1. Image pulling and removing\n",
    "```\n",
    "$ docker pull consol/tomcat-7.0\n",
    "$ docker rmi consol/tomcat-7.0\n",
    "```\n",
    "<br>\n",
    "\n",
    "#### 2.2. Creating and starting(Run) container\n",
    "```\n",
    "$ docker run -d --name mytomcat consol/tomcat-7.0\n",
    "```\n",
    "로컬에 ```consol/tomcat-7.0```이 없다면, pulling도 함께 진행된다. <br>\n",
    "Option : \n",
    "- d : background에서 동작\n",
    "- t : tty 사용\n",
    "- name : Container에 이름 부여\n",
    "- p : 포트 포워딩\n",
    "- rm : Stop시 자동삭제 (일시적인 컨테이너)\n",
    "<br>\n",
    "\n",
    "#### 2.3. 컨테이너 확인\n",
    "```\n",
    "$ docker ps\n",
    "```\n",
    "Option : \n",
    "- a : All(실행중이지 않은 모든 Container까지 확인)\n",
    "\n",
    "<br>\n",
    "\n",
    "#### 2.4. 컨테이너 중지\n",
    "```\n",
    "$ docker stop \"container_id\"\n",
    "$ docker stop \"container_name\"\n",
    "```\n",
    "<br>\n",
    "\n",
    "#### 2.5. 컨테이너 삭제\n",
    "```\n",
    "$ docker rm \"container_id\"\n",
    "$ docker rm \"container_name\"\n",
    "```\n",
    "동작하지 않는 Container에 한하여 삭제가 가능하다.\n",
    "<br>"
   ],
   "cell_type": "markdown",
   "metadata": {}
  },
  {
   "source": [
    "### 3. 사용 예제\n",
    "nginx를 docker를 이용하여 container를 다루는 예제이다.\n",
    "```\n",
    "$ docker pull nginx # pulling image\n",
    "$ docker create -p 80:80 --name mynginx nginx # creating image called mynginx with port mapping 80 to 80\n",
    "$ docker start -d mynginx(or id) # starting mynginx container\n",
    "$ docker ps \n",
    "$ docker stop mynginx\n",
    "$ docker rm mynginx\n",
    "$ docker rmi nginx\n",
    "```\n",
    "\n",
    "VSCode에 확장팩을 써도 되고, Docker Desktop을 써도 된다. 그리고, 옵션에 대해서는 ```--help``` 치면 다뜬다."
   ],
   "cell_type": "markdown",
   "metadata": {}
  },
  {
   "source": [
    "<strong>Reference.</strong><br>\n",
    "https://www.notion.so/b67ed727aea4467cbc3226bb0c8e8336"
   ],
   "cell_type": "markdown",
   "metadata": {}
  }
 ]
}