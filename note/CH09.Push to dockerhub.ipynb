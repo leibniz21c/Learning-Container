{
 "cells": [
  {
   "cell_type": "markdown",
   "id": "threatened-northeast",
   "metadata": {},
   "source": [
    "# CH09. Push to dockerhub"
   ]
  },
  {
   "cell_type": "markdown",
   "id": "diverse-viking",
   "metadata": {},
   "source": [
    "### 1. Setting docker image to push\n",
    "Image를 build 했다고, 원격 레지스트리에서 바로 사용가능한 것은 당연히 아니다. 일단 Docker hub의 경우는 build한 image에 대해서 정보를 추가적으로 명시해야 한다. 일단 간단한 에코서버를 구현하여 image를 만들면 다음과 같다.\n",
    "\n",
    "```shell\n",
    " ~/Desktop/Learning-Container/src/echo_service $ docker images\n",
    "REPOSITORY     TAG          IMAGE ID       CREATED          SIZE\n",
    "echo_service   latest       8c********0d   14 seconds ago   42.9MB\n",
    "python         3.8-alpine   76********0d   17 hours ago     42.9MB\n",
    "```\n",
    "\n",
    "echo_service는 어떠한 정보도 명시되지 않은 image이므로 먼저 login을 하고 tag를 설정해준다. 최초 login이라면 ID/PW를 입력해야하고, 이는 dockerhub에 대한 계정정보이다.\n",
    "\n",
    "```shell\n",
    " ~/Desktop/Learning-Container/src/echo_service $ docker login\n",
    "Authenticating with existing credentials...\n",
    "Login Succeeded\n",
    " ~/Desktop/Learning-Container/src/echo_service $ docker tag echo_service leibniz21c/echo_service\n",
    " ~/Desktop/Learning-Container/src/echo_service $ docker images\n",
    "REPOSITORY                TAG          IMAGE ID       CREATED         SIZE\n",
    "leibniz21c/echo_service   latest       8c********0d   3 minutes ago   42.9MB\n",
    "echo_service              latest       8c********0d   3 minutes ago   42.9MB\n",
    "python                    3.8-alpine   76********0d   17 hours ago    42.9MB\n",
    " ~/Desktop/Learning-Container/src/echo_service $ \n",
    "```\n",
    "\n",
    "위와 같이 leibniz21c/echo_service라는 이미지가 추가되었고, 이제 dockerhub에 push할 수 있다. 물론 버전명도 명시할 수 있다.\n",
    " \n",
    "```shell\n",
    " ~/Desktop/Learning-Container/src/echo_service $ docker tag echo_service leibniz21c/echo_service:1.0.0 \n",
    " ~/Desktop/Learning-Container/src/echo_service $ docker images\n",
    "REPOSITORY                TAG          IMAGE ID       CREATED          SIZE\n",
    "leibniz21c/echo_service   1.0.0        8c********0d   18 minutes ago   42.9MB\n",
    "leibniz21c/echo_service   latest       8c********0d   18 minutes ago   42.9MB\n",
    "echo_service              latest       8c********0d   18 minutes ago   42.9MB\n",
    "python                    3.8-alpine   76********0d   17 hours ago     42.9MB\n",
    "$ ~/Desktop/Learning-Container/src/echo_service $ \n",
    "```"
   ]
  },
  {
   "cell_type": "markdown",
   "id": "remarkable-ballot",
   "metadata": {},
   "source": [
    "### 2. Push\n",
    "이렇게 tag 정보가 명시된 image의 경우는 자신의 dockerhub 원격지에 public 권한으로 push 할 수 있다.\n",
    "```\n",
    " ~/Desktop/Learning-Container/src/echo_service $ docker push leibniz21c/echo_service:1.0.0 \n",
    "The push refers to repository [docker.io/leibniz21c/echo_service]\n",
    "11a******d62: Pushed \n",
    "f3d******53a: Pushed \n",
    "e4b******2d4: Mounted from library/python \n",
    "5e*******5fb: Mounted from library/python \n",
    "00*******40a: Mounted from library/python \n",
    "23********e3: Mounted from library/python \n",
    "cb********29: Mounted from library/python \n",
    "1.0.0: digest: sha256:00be**********************************************c6c2 size: 1782\n",
    " ~/Desktop/Learning-Container/src/echo_service $\n",
    "```\n",
    "\n",
    "Mounted from library/python 이라고 되어있는 부분은 중복된 layer가 원격지에 존재하기에 overlay 파일시스템의 원리에 따라 단지 링킹(마운트)가 된다."
   ]
  },
  {
   "cell_type": "markdown",
   "id": "legislative-printing",
   "metadata": {},
   "source": [
    "### 3. History of image\n",
    "``` docker history [IMAGE]``` 명령을 통해서 다음과 같이 이미지를 만드는 과정에 대한 정보를 확인할 수 있다.\n",
    "\n",
    "```shell\n",
    " ~/Desktop/Learning-Container/src/echo_service $ docker history leibniz21c/echo_service:1.0.0\n",
    "IMAGE          CREATED          CREATED BY                                      SIZE      COMMENT\n",
    "8c********0d   34 minutes ago   CMD [\"/bin/sh\" \"-c\" \"python3 /app/echo_serve…   0B        buildkit.dockerfile.v0\n",
    "<missing>      34 minutes ago   ADD echo_server.py /app # buildkit              503B      buildkit.dockerfile.v0\n",
    "<missing>      34 minutes ago   RUN /bin/sh -c mkdir /app # buildkit            0B        buildkit.dockerfile.v0\n",
    "<missing>      34 minutes ago   EXPOSE map[50000/tcp:{}]                        0B        buildkit.dockerfile.v0\n",
    "<missing>      18 hours ago     /bin/sh -c #(nop)  CMD [\"python3\"]              0B        \n",
    "<missing>      18 hours ago     /bin/sh -c set -ex;   wget -O get-pip.py \"$P…   8.01MB    \n",
    "<missing>      18 hours ago     /bin/sh -c #(nop)  ENV PYTHON_GET_PIP_SHA256…   0B        \n",
    "<missing>      18 hours ago     /bin/sh -c #(nop)  ENV PYTHON_GET_PIP_URL=ht…   0B        \n",
    "<missing>      18 hours ago     /bin/sh -c #(nop)  ENV PYTHON_PIP_VERSION=21…   0B        \n",
    "<missing>      18 hours ago     /bin/sh -c cd /usr/local/bin  && ln -s idle3…   32B       \n",
    "<missing>      18 hours ago     /bin/sh -c set -ex  && apk add --no-cache --…   28.8MB    \n",
    "<missing>      18 hours ago     /bin/sh -c #(nop)  ENV PYTHON_VERSION=3.8.8     0B        \n",
    "<missing>      2 days ago       /bin/sh -c #(nop)  ENV GPG_KEY=E3FF2839C048B…   0B        \n",
    "<missing>      2 days ago       /bin/sh -c set -eux;  apk add --no-cache   c…   512kB     \n",
    "<missing>      2 days ago       /bin/sh -c #(nop)  ENV LANG=C.UTF-8             0B        \n",
    "<missing>      2 days ago       /bin/sh -c #(nop)  ENV PATH=/usr/local/bin:/…   0B        \n",
    "<missing>      2 days ago       /bin/sh -c #(nop)  CMD [\"/bin/sh\"]              0B        \n",
    "<missing>      2 days ago       /bin/sh -c #(nop) ADD file:80bf8bd014071345b…   5.61MB    \n",
    " ~/Desktop/Learning-Container/src/echo_service $\n",
    "```"
   ]
  }
 ],
 "metadata": {
  "kernelspec": {
   "display_name": "Python 3",
   "language": "python",
   "name": "python3"
  },
  "language_info": {
   "codemirror_mode": {
    "name": "ipython",
    "version": 3
   },
   "file_extension": ".py",
   "mimetype": "text/x-python",
   "name": "python",
   "nbconvert_exporter": "python",
   "pygments_lexer": "ipython3",
   "version": "3.8.2"
  }
 },
 "nbformat": 4,
 "nbformat_minor": 5
}
