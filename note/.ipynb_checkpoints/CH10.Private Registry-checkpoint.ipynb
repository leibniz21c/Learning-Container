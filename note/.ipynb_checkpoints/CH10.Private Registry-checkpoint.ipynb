{
 "cells": [
  {
   "cell_type": "markdown",
   "id": "given-smoke",
   "metadata": {},
   "source": [
    "# CH10. Private registry"
   ]
  },
  {
   "cell_type": "markdown",
   "id": "rapid-expansion",
   "metadata": {},
   "source": [
    "### 1. How to make private registry?\n",
    " Dockerhub에서 docker private registry를 구현할 수 있는 Official image를 제공한다.\n",
    " \n",
    "```shell\n",
    " ~/Desktop/Learning-Container/src/myregistry $ docker search registry\n",
    "NAME                                 DESCRIPTION                                     STARS     OFFICIAL   AUTOMATED\n",
    "registry                             The Docker Registry 2.0 implementation for s…   3207      [OK]       \n",
    "...\n",
    "```\n",
    "\n",
    " 이를 pull하여 private registry를 구현할 수 있다. image 정보를 참고하여 포워딩해야하는 포트를 확인한다.\n",
    "\n",
    "```\n",
    "            \"ExposedPorts\": {\n",
    "                \"5000/tcp\": {}\n",
    "            },\n",
    "```\n",
    "\n",
    "즉, 다음과 같이 동작시키면 된다.\n",
    "\n",
    "```\n",
    " ~/Desktop/Learning-Container/src/myregistry $ docker run -d -p 5000:5000 --name myregistry registry\n",
    "334****************************************************a81\n",
    " ~/Desktop/Learning-Container/src/myregistry $ docker ps\n",
    "CONTAINER ID   IMAGE      COMMAND                  CREATED         STATUS         PORTS                    NAMES\n",
    "334*********   registry   \"/entrypoint.sh /etc…\"   5 seconds ago   Up 4 seconds   0.0.0.0:5000->5000/tcp   myregistry\n",
    "```\n",
    " \n",
    "<img src=\"./res/ch10/fig01.png\" width=\"650\" height=\"400\"><br>\n",
    "<div align=\"center\">\n",
    "  Figure01\n",
    "</div>\n",
    " \n",
    " 잘 작동함을 알 수 있다. (docker registry는 http를 통한 API를 제공한다.)"
   ]
  },
  {
   "cell_type": "markdown",
   "id": "color-stewart",
   "metadata": {},
   "source": [
    "### 2. How to push/pull images to private registry?\n",
    "일단 대충 Image를 한 개 만들고, tag를 달아주는데, 다음과 같이 서버의 주소와 포트번호를 앞에 준다.\n",
    "\n",
    "```shell\n",
    " ~/Desktop/Learning-Container/src/myregistry/tempImage $ docker tag temp_image 127.0.0.1:5000/temp_image:1.0.0\n",
    " ~/Desktop/Learning-Container/src/myregistry/tempImage $ docker images\n",
    "REPOSITORY                  TAG       IMAGE ID       CREATED        SIZE\n",
    "127.0.0.1:5000/temp_image   1.0.0     a8305c39c7ab   4 days ago     934MB\n",
    "temp_image                  latest    a8305c39c7ab   4 days ago     934MB\n",
    "registry                    latest    678dfa38fcfa   2 months ago   26.2MB\n",
    "```\n",
    "\n",
    "그리고 나서 push를 다음과 같이 해주면된다.\n",
    "\n",
    "```shell\n",
    " ~/Desktop/Learning-Container/src/myregistry/tempImage $ docker push 127.0.0.1:5000/temp_image:1.0.0\n",
    "The push refers to repository [127.0.0.1:5000/temp_image]\n",
    "93*******f57: Pushed \n",
    "21*******a39: Pushed \n",
    "50*******a64: Pushed \n",
    "7e*******81f: Pushed \n",
    "b5*******107: Pushed \n",
    "ba*******4b7: Pushed \n",
    "3d*******337: Pushed \n",
    "89*******73e: Pushed \n",
    "97*******d45: Pushed \n",
    "5f*******e6a: Pushed \n",
    "e4*******5f8: Pushed \n",
    "1.0.0: digest: sha256:96f********************************************************5fd size: 2631\n",
    "```\n",
    "\n",
    "물론, Private registry라도 사용자가 여려명이라면 다음과 같이 registry를 관리하는 것이 일반적이다. 마치 dockerhub와 같이. \n",
    "\n",
    "\n",
    "```shell\n",
    " ~/Desktop/Learning-Container/src/myregistry/tempImage $ docker tag temp_image 127.0.0.1:5000/leibniz21c/temp_image:1.0.0\n",
    "```\n",
    "pull도 다음과 같이 그냥 하면된다.\n",
    "\n",
    "```\n",
    " ~/Desktop/Learning-Container/src/myregistry/tempImage $ docker pull 127.0.0.1:5000/temp_image:1.0.0\n",
    "1.0.0: Pulling from temp_image\n",
    "...\n",
    "Status: Downloaded newer image for 127.0.0.1:5000/temp_image:1.0.0\n",
    "127.0.0.1:5000/temp_image:1.0.0\n",
    "```"
   ]
  },
  {
   "cell_type": "markdown",
   "id": "daily-indianapolis",
   "metadata": {},
   "source": [
    "<strong>Reference.</strong><br>\n",
    "https://hub.docker.com/_/registry<br>"
   ]
  }
 ],
 "metadata": {
  "kernelspec": {
   "display_name": "Python 3",
   "language": "python",
   "name": "python3"
  },
  "language_info": {
   "codemirror_mode": {
    "name": "ipython",
    "version": 3
   },
   "file_extension": ".py",
   "mimetype": "text/x-python",
   "name": "python",
   "nbconvert_exporter": "python",
   "pygments_lexer": "ipython3",
   "version": "3.8.2"
  }
 },
 "nbformat": 4,
 "nbformat_minor": 5
}
