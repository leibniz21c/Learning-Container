{
 "cells": [
  {
   "cell_type": "markdown",
   "id": "standard-humanity",
   "metadata": {},
   "source": [
    "# CH06.Layer and File system"
   ]
  },
  {
   "cell_type": "markdown",
   "id": "modified-filter",
   "metadata": {},
   "source": [
    "### 1. Layer\n",
    "<img src=\"./res/ch06/fig01.png\" width=\"650\" height=\"400\"><br>\n",
    "<div align=\"center\">\n",
    "  Figure01\n",
    "</div>\n",
    "\n",
    "Docker에서 Image는 여러개의 layer로 구성된다. 이때, 각 layer들은 다른 image와 겹치는 데이터가 존재할 수 있고, image를 지운다고 하더라도, 어떤 layer가 다른 image에도 포함된다면, 실제 layer 데이터는 지워지지 않는다. 또한, 어떤 image를 새로 pull할 때, 이미 존재하는 layer는 다운받지 않는다. 이러한 파일시스템을 Union file system이라고 하며, docker는 이를 통해 구현되었다."
   ]
  },
  {
   "cell_type": "markdown",
   "id": "skilled-polish",
   "metadata": {},
   "source": [
    "### 2. Image information\n",
    "먼저, docker에서 설치된 이미지의 정보를 확인하고 싶다면, ```docker inspect [imagename]```을 이용한다. 사용하면 많은 정보가 표시되는데, 그 중 몇 가지만 보면 다음과 같다.\n",
    "```shell\n",
    "$ docker inspect nginx\n",
    "[\n",
    "    {\n",
    "        \"Id\": \"sha256:298ec0e28760b8eb1aad79711dc29c19041c61d7cf342dd1f445e91f30500549\",\n",
    "        \"RepoTags\": [\n",
    "            \"nginx:latest\"\n",
    "        ],\n",
    "```\n",
    " 위의 내용에서 이미지의 sha256 값과 Tag를 확인할 수 있다. 'nginx'처럼 뒤에 버전 값을 명시하지 않으면 ':latest'가 디폴트로 적용된다.\n",
    "\n",
    "\n",
    "```shell\n",
    "        ...\n",
    "            \"ExposedPorts\": {\n",
    "                \"80/tcp\": {}\n",
    "            },  \n",
    "        ...\n",
    "```\n",
    " 위의 내용에서 ExposedPorts 정보는 포트포워딩을 할 때 필요하며, ```docker start```명령을 할 때, ```-p``` 옵션에서 ```[hostport]:[guestport]``` 정보를 기입할 때 필요한 정보이다.\n",
    "\n",
    "\n",
    "```shell\n",
    "            ...\n",
    "            \"Env\": [\n",
    "                \"PATH=/usr/local/sbin:/usr/local/bin:/usr/sbin:/usr/bin:/sbin:/bin\",\n",
    "                \"NGINX_VERSION=1.19.6\",\n",
    "                \"NJS_VERSION=0.5.0\",\n",
    "                \"PKG_RELEASE=1~buster\"\n",
    "            ],\n",
    "            ...\n",
    "```\n",
    " 위의 내용에서 Env는 환경변수에 대한 내용이다.\n",
    "\n",
    "\n",
    "```shell\n",
    "        ...\n",
    "        \"RootFS\": {\n",
    "            \"Type\": \"layers\",\n",
    "            \"Layers\": [\n",
    "                \"sha256:9eb82f04c782ef3f5ca25911e60d75e441ce0fe82e49f0dbf02c81a3161d1300\",\n",
    "                \"sha256:4cbb728cd30213f3443cb8669a82813818f51410c0f1977184973ab29a085acf\",\n",
    "                \"sha256:c20672db36281582dfe30b5fa1e6a531be6270c77647eb559194e408a089e0c1\",\n",
    "                \"sha256:ae1f545e4c08d33bc281d65919a49ace4c5186e62ff61bbdaed9c65dafd13d4d\",\n",
    "                \"sha256:d9eb91d66e2a2df46b2874e2a78351ec9abe192250b2f6d9c03c76a9b5923ff5\"\n",
    "            ]\n",
    "        },\n",
    "        ...\n",
    "```\n",
    " 위의 내용은 Root FileSystem의 layer들의 정보를 담고있다.<br><br>"
   ]
  },
  {
   "cell_type": "markdown",
   "id": "compressed-league",
   "metadata": {},
   "source": [
    "### 3. Docker data management\n",
    "```docker info``` 명령어를 통해서 현재 docker의 정보들을 알 수 있다.\n",
    "\n",
    "```shell\n",
    "$ docker info\n",
    "    ...\n",
    "    Storage Driver: overlay2\n",
    "    ...\n",
    "    Docker Root Dir: /var/lib/docker\n",
    "    ...\n",
    "```\n",
    " 위와 같이 Storage Driver: overlay2라고 되어있는데, 이를 통해서 docker에서의 데이터 관리 구조를 알 수 있다. 일단 linux환경에서 docker는 일반적으로는 ```/var/lib/docker``` 위치에서 관리된다. Mac 환경에서도 위와 같이 표시되지만, 사실 이것도 Hypervisor위에서 동작하는거고, Mac 환경에서 ```/Volumes/{DISKNAME}/var/run/docker.sock```의 경로로 가면 다음과 같이 링크 파일이 구성된다. \n",
    "```\n",
    "lrwxr-xr-x  1 root  daemon  68  2 15 17:36 /Volumes/{DISKNAME}/var/run/docker.sock -> /Users/{USERNAME}/Library/Containers/com.docker.docker/Data/docker.sock\n",
    "```\n",
    "\n",
    " 사실 docker를 설치하면 docker daemon과 docker CLI가 설치된다. shell에서 docker 명령어를 입력할 경우 docker CLI가 명령어를 받아서 socket을 통해 docker daemon에 전달한다. ```/var/run/docker.sock``` 파일이 docker daemon에게 명령을 내릴수 있는 인터페이스다. Centos에서 docker를 설치할 때, docker를 한번 지우고 설치하라고 권장하는 이유가 옛날 버전의 docker는 완전히 나누어서 관리되기 때문이다.<br><br>\n",
    " \n",
    " 결론적으로, 일반적인 linux라면 ```/var/lib/docker/```에서 관련 데이터들이 관리가되며, ```./image```, ```./overlay2```, ```./container```에서 대부분 처리가된다. <br><br>\n",
    " \n",
    " - __/var/lib/docker/image__ : image의 정보가 들어있다. 물론 메타적인 데이터가 대부분이라서 용량이 상대적으로 크진않다.\n",
    "     - __/var/lib/docker/image/imagedb__ : __/var/lib/docker/image/layerdb__의 정보가 들어있다.\n",
    "     - __/var/lib/docker/image/layerdb__ : layer data의 정보가 들어있다.\n",
    " - __/var/lib/docker/overlay2__ : 변경사항에 대한 log 정보가 들어있다.\n",
    "     - __/var/lib/docker/overlay2/l__ : 실질적인 layer들의 데이터가 들어있다. 용량의 대부분을 차지한다.\n",
    " - __/var/lib/docker/container__ : container의 정보가 들어있지만, 사실상의 데이터는 모두 overlay2에서 관리된다.\n",
    " \n",
    " 위와 같은 파일구조를 가지고 있기에 다음과 같이 container가 구성된다\n",
    " \n",
    " <img src=\"./res/ch06/fig02.png\" width=\"400\" height=\"300\"><br>\n",
    "<div align=\"center\">\n",
    "  Figure02\n",
    "</div>"
   ]
  },
  {
   "cell_type": "markdown",
   "id": "heard-queen",
   "metadata": {},
   "source": [
    "<strong>Reference.</strong><br>\n",
    "https://phoenixnap.com/kb/docker-image-vs-container<br>"
   ]
  }
 ],
 "metadata": {
  "kernelspec": {
   "display_name": "Python 3",
   "language": "python",
   "name": "python3"
  },
  "language_info": {
   "codemirror_mode": {
    "name": "ipython",
    "version": 3
   },
   "file_extension": ".py",
   "mimetype": "text/x-python",
   "name": "python",
   "nbconvert_exporter": "python",
   "pygments_lexer": "ipython3",
   "version": "3.8.2"
  }
 },
 "nbformat": 4,
 "nbformat_minor": 5
}
