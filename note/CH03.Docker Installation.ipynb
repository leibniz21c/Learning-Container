{
 "metadata": {
  "language_info": {
   "codemirror_mode": {
    "name": "ipython",
    "version": 3
   },
   "file_extension": ".py",
   "mimetype": "text/x-python",
   "name": "python",
   "nbconvert_exporter": "python",
   "pygments_lexer": "ipython3",
   "version": "3.8.2-final"
  },
  "orig_nbformat": 2,
  "kernelspec": {
   "name": "python3",
   "display_name": "Python 3.8.2 64-bit",
   "metadata": {
    "interpreter": {
     "hash": "5edc29c2ed010d6458d71a83433b383a96a8cbd3efe8531bc90c4b8a5b8bcec9"
    }
   }
  }
 },
 "nbformat": 4,
 "nbformat_minor": 2,
 "cells": [
  {
   "source": [
    "# CH03.Docker Installation"
   ],
   "cell_type": "markdown",
   "metadata": {}
  },
  {
   "source": [
    "### 1. Docker\n",
    "\n",
    "- 이미지 : 필요한 프로그램과 라이브러리, 소스를 설치한 뒤 만든 하나의 파일\n",
    "- 컨테이너 : 이미지를 격리하여 독립된 공간에서 실행한 가상 환경\n",
    "\n",
    "컨테이너 기술을 지원하는 프로젝트인 도커는 다양한 운영체제(Linux, Windows, MacOS)에서 사용가능하다. 애플리케이션에 국한 되지 않고 의존성 및 파일 시스템까지 패키징하여 빌드, 배포, 실행을 단순화한다. 또한, 리눅스의 네임 스페이스와 cgroups와 같은 커널 기능을 사용하여 가상화를 한다. 도커는 사실상 컨테이너 기술의 표준이다. Windows 환경의 도커는 Hypervisor를 사용하기 때문에 합리적이지 못하고, 일반적으로 Linux 기반으로 컨테이너를 구성하는 것이 이상적이다."
   ],
   "cell_type": "markdown",
   "metadata": {}
  },
  {
   "source": [
    "### 2. 도커와 사용가능한 클라우드 서비스 모델\n",
    "\n",
    "<img src=\"./res/ch03/fig01.png\" width=\"500\" height=\"430\"><br>\n",
    "<div align=\"center\">\n",
    "  Figure01\n",
    "</div>\n",
    "\n",
    "- IaaS(Infrastructure-as-a-service) : <br>\n",
    "인터넷을 통해 최종 사용자에게 IT인프라를 제공하는 형태의 클라우드 컴퓨팅. 즉, 서비스로서의 인프라.\n",
    "\n",
    "- PaaS(Platform-as-a-service) : <br>\n",
    "하드웨어 및 애플리케이션 소프트웨어 플랫폼이 제 3사를 통해 제공되는 클라우드 컴퓨팅의 형식. 주로 개발자와 프로그래머가 사용하는 PaaS는 보통 해당 프로세스와 관련된 인프로 또는 플랫폼을 구축하고 유지관리할 필요 업서이 자체 애플리케이션을 개발, 실행 및 관리할 수 있음. 즉, 서비스로서의 플랫폼.\n",
    "\n",
    "- SaaS(Software-as-a-service) : <br>\n",
    "클라우드 애플리케이션과 기본 IT 인프라 및 플랫폼을 사용자에게 제공하는 클라우드 컴퓨팅. 즉, 서비스로서의 소프트웨어.\n"
   ],
   "cell_type": "markdown",
   "metadata": {}
  },
  {
   "source": [
    "### 3. 도커의 한계\n",
    "서비스가 커지면 커질 수록 관리해야 하는 컨테이너의 양이 급격히 증가. 도커를 사용하여 관리를 한다 하더라도 쉽지 않은 형태. 내부적으로 도커를 사용하고, 외부적으로 도커 스웜, 쿠버네티스를 사용하여 해결."
   ],
   "cell_type": "markdown",
   "metadata": {}
  },
  {
   "source": [
    "### 4. Docker의 이상적 동작 환경은 Linux\n",
    "MacOS에서 Docker를 동작시키려하는데, xhyve라는 Hypervisor기반의 HyperKit를 통한 경량화 가상 기술을 사용해야한다. 이는 Mac OS의 bhyve 버전으로 Type2형식의 Hypervisor를 지원한다. 당연히 Windows의 상황처럼 리소스 측면에서 오버헤드가 있다. 즉, Host OS를 Linux로 하고, Docker를 통하여 Guest OS를 가상화 하는 것이 아니면 사실상 의미가 적어진다. 설치가 완료되면 관리자 환경으로 진행한다. Linux 환경에서는 간단하게 ``` apt install docker.io ```, apt 툴을 이용하여 설치할 수 있다. \n",
    "\n",
    "```\n",
    "$ sudo -i\n",
    "Password:\n",
    "root# docker\n",
    "\n",
    "Usage:  docker [OPTIONS] COMMAND\n",
    "\n",
    "A self-sufficient runtime for containers\n",
    "\n",
    "Options:\n",
    "      --config string      Location of client config files (default \"/Users/gottfried/.docker\")\n",
    "  -c, --context string     Name of the context to use to connect to the daemon (overrides DOCKER_HOST env var and default\n",
    "                           context set with \"docker context use\")\n",
    "  -D, --debug              Enable debug mode\n",
    "  -H, --host list          Daemon socket(s) to connect to\n",
    "  \n",
    "  ...\n",
    "  \n",
    "  version     Show the Docker version information\n",
    "  wait        Block until one or more containers stop, then print their exit codes\n",
    "\n",
    "Run 'docker COMMAND --help' for more information on a command.\n",
    "\n",
    "To get more help with docker, check out our guides at https://docs.docker.com/go/guides/\n",
    "```\n",
    "\n",
    "간단하게 Tomcat(https://ko.wikipedia.org/wiki/아파치_톰캣) 서비스를 올리려면 다음과 같이 행동한다.\n",
    "\n",
    "```\n",
    "root# docker search tomcat\n",
    "NAME                          DESCRIPTION                                     STARS     OFFICIAL   AUTOMATED\n",
    "tomcat                        Apache Tomcat is an open source implementati…   2933      [OK]       \n",
    "tomee                         Apache TomEE is an all-Apache Java EE certif…   86        [OK]       \n",
    "dordoka/tomcat                Ubuntu 14.04, Oracle JDK 8 and Tomcat 8 base…   55                   [OK]\n",
    "bitnami/tomcat                Bitnami Tomcat Docker Image                     37                   [OK]\n",
    "kubeguide/tomcat-app          Tomcat image for Chapter 1                      29                   \n",
    "consol/tomcat-7.0             Tomcat 7.0.57, 8080, \"admin/admin\"              18                   [OK]\n",
    "cloudesire/tomcat             Tomcat server, 6/7/8                            15                   [OK]\n",
    "aallam/tomcat-mysql           Debian, Oracle JDK, Tomcat & MySQL              13                   [OK]\n",
    "...\n",
    "```\n",
    "이들 중에서 원하는 것을 선택하여 설치한다.\n",
    "\n",
    "```\n",
    "root# docker run -d -p 8080:8080 --name mytomcat consol/tomcat-7.0\n",
    "Unable to find image 'consol/tomcat-7.0:latest' locally\n",
    "latest: Pulling from consol/tomcat-7.0\n",
    "Image docker.io/consol/tomcat-7.0:latest uses outdated schema1 manifest format. Please upgrade to a schema2 image for better future compatibility. More information at https://docs.docker.com/registry/spec/deprecated-schema-v1/\n",
    "e5ad7970bc69: Extracting [========================================>          ]  41.42MB/51.37MB\n",
    "a3ed95caeb02: Download complete \n",
    "d1bc08d19aa0: Download complete \n",
    "e4b877670a03: Download complete \n",
    "7fe52da169a9: Download complete \n",
    "dd8c3151a5a5: Downloading [============================>                      ]   80.5MB/139.7MB\n",
    "70eb33b1a032: Download complete \n",
    "878a118528b8: Download complete \n",
    "1c0747c147d5: Download complete \n",
    "0d0d0f226ce8: Download complete \n",
    "56357e7ea3fa: Download complete \n",
    "3c3554f7c62d: Download complete \n",
    "23de17079739: Download complete\n",
    "```\n",
    "\n",
    "설치가 완료되면 바로 Tomcat Service가 돌기 시작한다. (http://127.0.0.1:8080)에서 바로 확인가능하다."
   ],
   "cell_type": "markdown",
   "metadata": {}
  },
  {
   "source": [
    "<strong>Reference.</strong><br>\n",
    "https://www.redhat.com/ko/topics/cloud-computing/what-is-iaas<br>"
   ],
   "cell_type": "markdown",
   "metadata": {}
  }
 ]
}