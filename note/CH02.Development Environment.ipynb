{
 "cells": [
  {
   "cell_type": "markdown",
   "metadata": {},
   "source": [
    "# CH02.Development Environment"
   ]
  },
  {
   "cell_type": "markdown",
   "metadata": {},
   "source": [
    "### 1. Monolithic architecture\n",
    "Monolithic architecture는 전통의 아키텍쳐를 지칭하는 의미로 생겨난 단어이다. 하나의 서비스 또는 애플리케이션이 하나의 거대한 아키텍쳐를 가질 때, 모놀리식(Monolithic)하다고 한다.\n",
    "\n",
    "<img src=\"./res/ch02/fig01.png\" width=\"300\" height=\"500\"><br>\n",
    "<div align=\"center\">\n",
    "  Figure01\n",
    "</div>\n",
    "\n",
    "장점 :\n",
    "- 개발 초기에 단순한 아키텍쳐 구조와 개발에 용이하다.\n",
    "- 어떤 서비스든지 개발되어있는 환경이 같아서 복잡하지 않다.\n",
    "- 쉽게 고가용성 서버 환경을 만들 수 있다.\n",
    "- End-to-End 테스트가 용이하다.\n",
    "\n",
    "단점 : \n",
    "- 프로젝트가 커질 때 빌드, 배포 시간이 길어진다.\n",
    "- 정기적으로 정기점검이 필요하다.\n",
    "- 작은 업데이트에도 테스트량이 많고, 전체를 다시 빌드하고 배포해야한다.\n",
    "- 즉, 유지보수가 힘들다.\n",
    "- 기능별로 알맞은 기술, 언어, 프레임워크를 선택하기 까다롭다."
   ]
  },
  {
   "cell_type": "markdown",
   "metadata": {},
   "source": [
    "### 2. Microservice architecture(MSA)\n",
    "마이크로서비스는 소프트웨어가 잘 정의된 API를 통해 통신하는 소규모의 독립적인 서비스로 구성되어 있는 경우의 소프트웨어 개발을 위한 아키텍처 및 조직적 접근 방식이다. 이러한 서비스는 독립적인 소규모 팀에서 보유한다.\n",
    "\n",
    "<img src=\"./res/ch02/fig02.png\" width=\"300\" height=\"500\"><br>\n",
    "<div align=\"center\">\n",
    "  Figure02\n",
    "</div>\n",
    "\n",
    "장점 :\n",
    "- 기능별로 마이크로서비스를 개발하고, 작업 할당을 서비스 단위로 하면 개발자가 해당 부분을 온전히 이해할 수 있다.\n",
    "- 작은 업데이트에서 수정사항이 있는 마이크로서비스만 빠르게 빌드, 배포만 하면된다.\n",
    "- 컨테이너를 이용하여 해당 기능에 맞는 기술, 언어 등을 선택하여 사용할 수 있다.\n",
    "- 일부분의 오류가 있으면 해당 기능에만 오류가 발생하고 그 부분만 빠르게 고쳐서 정상화가 가능하다.\n",
    "\n",
    "단점 :\n",
    "- 작은 여러 서비스들이 분산되어있기 때문에 모니터링이 힘들다.\n",
    "- 서비스간의 통신관련 오류가 잦다.\n",
    "- 테스트가 불편하다. "
   ]
  },
  {
   "cell_type": "markdown",
   "metadata": {},
   "source": [
    "<strong>Reference.</strong><br>\n",
    "https://lion-king.tistory.com/entry/마이크로-서비스-vs-모놀리식-아키텍처-MicroService-vs-Monolithic-Architecture-간단-소개-및-주관적-의견<br>\n",
    "https://aws.amazon.com/ko/microservices/<br>"
   ]
  }
 ],
 "metadata": {
  "kernelspec": {
   "display_name": "Python 3",
   "language": "python",
   "name": "python3"
  },
  "language_info": {
   "codemirror_mode": {
    "name": "ipython",
    "version": 3
   },
   "file_extension": ".py",
   "mimetype": "text/x-python",
   "name": "python",
   "nbconvert_exporter": "python",
   "pygments_lexer": "ipython3",
   "version": "3.8.2"
  }
 },
 "nbformat": 4,
 "nbformat_minor": 4
}
