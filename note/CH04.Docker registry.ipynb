{
 "cells": [
  {
   "cell_type": "markdown",
   "metadata": {},
   "source": [
    "# CH04.Docker registry"
   ]
  },
  {
   "cell_type": "markdown",
   "metadata": {},
   "source": [
    "### 1. Docker registry\n",
    "Docker registry에는 사용자가 사용할 수 있도록 데이터베이스를 통해 Image를 제공해주고 있다. 누구나 Image를 만들어 Push할 수 있으며 Push한 이미지는 다른 사람들에게 공유 가능하다.\n",
    "\n",
    "<img src=\"./res/ch04/fig01.png\" width=\"650\" height=\"400\"><br>\n",
    "<div align=\"center\">\n",
    "  Figure01\n",
    "</div>\n",
    "\n",
    "<br><br>\n",
    "\n",
    "<img src=\"./res/ch04/fig02.png\" width=\"650\" height=\"400\"><br>\n",
    "<div align=\"center\">\n",
    "  Figure02\n",
    "</div>\n",
    "위의 그림을 보면 dockerhub라는 docker registry에서 tomcat image를 검색하였다. 공식이미지가 있고, 일반 사용자가 수정하여 업로드한 이미지가 있다. 만약 tomcat image를 명령어로 검색하고 싶으면, 다음과 같은 커멘드를 입력한다\n",
    "\n",
    "```\n",
    "root# docker search tomcat\n",
    "NAME                          DESCRIPTION                                     STARS     OFFICIAL   AUTOMATED\n",
    "tomcat                        Apache Tomcat is an open source implementati…   2933      [OK]       \n",
    "tomee                         Apache TomEE is an all-Apache Java EE certif…   86        [OK]       \n",
    "dordoka/tomcat                Ubuntu 14.04, Oracle JDK 8 and Tomcat 8 base…   55                   [OK]\n",
    "bitnami/tomcat                Bitnami Tomcat Docker Image                     37                   [OK]\n",
    "kubeguide/tomcat-app          Tomcat image for Chapter 1                      29                   \n",
    "consol/tomcat-7.0             Tomcat 7.0.57, 8080, \"admin/admin\"              18                   [OK]\n",
    "cloudesire/tomcat             Tomcat server, 6/7/8                            15                   [OK]\n",
    "aallam/tomcat-mysql           Debian, Oracle JDK, Tomcat & MySQL              13                   [OK]\n",
    "arm32v7/tomcat                Apache Tomcat is an open source implementati…   10                   \n",
    "maluuba/tomcat7-java8         Tomcat7 with java8.                             6    \n",
    "...\n",
    "                \n",
    "```"
   ]
  },
  {
   "cell_type": "markdown",
   "metadata": {},
   "source": [
    "### 2. 원하는 Image를 Pull하는 방법\n",
    "간단하게 Search를 통해서 얻은 Image의 이름을 이용하여 바로 Pulling이 가능하다.\n",
    "```\n",
    "root# docker pull mysql\n",
    "Using default tag: latest\n",
    "latest: Pulling from library/mysql\n",
    "a076a628af6f: Pull complete \n",
    "f6c208f3f991: Pull complete \n",
    "88a9455a9165: Pull complete \n",
    "406c9b8427c6: Pull complete \n",
    "7c88599c0b25: Extracting [==================================================>]     115B/115B\n",
    "25b5c6debdaf: Download complete \n",
    "43a5816f1617: Download complete \n",
    "1a8c919e89bf: Download complete \n",
    "9f3cf4bd1a07: Downloading [========================================>          ]  91.32MB/113.1MB\n",
    "```"
   ]
  },
  {
   "cell_type": "markdown",
   "metadata": {},
   "source": [
    "### 3. 로컬 시스템에 있는 Image 확인\n",
    "다음과 같은 명령어를 이용하여 다운받은 Image의 목록을 알 수 있다.\n",
    "```\n",
    "root# docker iamges\n",
    "REPOSITORY          TAG       IMAGE ID       CREATED       SIZE\n",
    "mysql               latest    c8562eaf9d81   2 weeks ago   546MB\n",
    "consol/tomcat-7.0   latest    7c34bafd1150   5 years ago   601MB\n",
    "```\n"
   ]
  },
  {
   "cell_type": "markdown",
   "metadata": {},
   "source": [
    "<strong>Reference.</strong><br>\n",
    "dockerhub"
   ]
  }
 ],
 "metadata": {
  "kernelspec": {
   "display_name": "Python 3",
   "language": "python",
   "name": "python3"
  },
  "language_info": {
   "codemirror_mode": {
    "name": "ipython",
    "version": 3
   },
   "file_extension": ".py",
   "mimetype": "text/x-python",
   "name": "python",
   "nbconvert_exporter": "python",
   "pygments_lexer": "ipython3",
   "version": "3.8.2"
  }
 },
 "nbformat": 4,
 "nbformat_minor": 4
}
