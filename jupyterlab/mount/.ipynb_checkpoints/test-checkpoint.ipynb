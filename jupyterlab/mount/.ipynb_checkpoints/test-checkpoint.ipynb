{
 "cells": [
  {
   "cell_type": "code",
   "execution_count": 3,
   "id": "virgin-seventh",
   "metadata": {},
   "outputs": [
    {
     "name": "stdout",
     "output_type": "stream",
     "text": [
      "Linux 1284a2db94f3 4.19.121-linuxkit #1 SMP Tue Dec 1 17:50:32 UTC 2020 x86_64 x86_64 x86_64 GNU/Linux\n"
     ]
    }
   ],
   "source": [
    "!uname -a"
   ]
  },
  {
   "cell_type": "code",
   "execution_count": 4,
   "id": "mighty-copper",
   "metadata": {},
   "outputs": [
    {
     "name": "stdout",
     "output_type": "stream",
     "text": [
      "Ubuntu 20.04.1 LTS \\n \\l\n",
      "\n"
     ]
    }
   ],
   "source": [
    "!cat /etc/issue"
   ]
  },
  {
   "cell_type": "code",
   "execution_count": 5,
   "id": "dominant-legend",
   "metadata": {},
   "outputs": [
    {
     "name": "stdout",
     "output_type": "stream",
     "text": [
      "SHELL=/bin/bash\n",
      "MINIFORGE_VERSION=4.9.2-5\n",
      "HOSTNAME=1284a2db94f3\n",
      "LANGUAGE=en.UTF-8\n",
      "NB_UID=1000\n",
      "JULIA_PKGDIR=/opt/julia\n",
      "PWD=/home/jovyan/work\n",
      "HOME=/home/jovyan\n",
      "LANG=en.UTF-8\n",
      "NB_GID=100\n",
      "CLICOLOR=1\n",
      "JULIA_VERSION=1.5.3\n",
      "XDG_CACHE_HOME=/home/jovyan/.cache/\n",
      "JPY_PARENT_PID=8\n",
      "JUPYTER_ENABLE_LAB=yes\n",
      "TERM=xterm-color\n",
      "GIT_PAGER=cat\n",
      "SHLVL=0\n",
      "PAGER=cat\n",
      "CONDA_DIR=/opt/conda\n",
      "JULIA_DEPOT_PATH=/opt/julia\n",
      "MPLBACKEND=module://ipykernel.pylab.backend_inline\n",
      "CONDA_VERSION=4.9.2\n",
      "NB_USER=jovyan\n",
      "LC_ALL=en_US.UTF-8\n",
      "PATH=/opt/conda/bin:/usr/local/sbin:/usr/local/bin:/usr/sbin:/usr/bin:/sbin:/bin\n",
      "DEBIAN_FRONTEND=noninteractive\n",
      "_=/usr/bin/printenv\n"
     ]
    }
   ],
   "source": [
    "!printenv"
   ]
  }
 ],
 "metadata": {
  "kernelspec": {
   "display_name": "Python 3",
   "language": "python",
   "name": "python3"
  },
  "language_info": {
   "codemirror_mode": {
    "name": "ipython",
    "version": 3
   },
   "file_extension": ".py",
   "mimetype": "text/x-python",
   "name": "python",
   "nbconvert_exporter": "python",
   "pygments_lexer": "ipython3",
   "version": "3.8.6"
  }
 },
 "nbformat": 4,
 "nbformat_minor": 5
}
